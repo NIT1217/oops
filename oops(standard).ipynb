{
  "nbformat": 4,
  "nbformat_minor": 0,
  "metadata": {
    "colab": {
      "provenance": []
    },
    "kernelspec": {
      "name": "python3",
      "display_name": "Python 3"
    },
    "language_info": {
      "name": "python"
    }
  },
  "cells": [
    {
      "cell_type": "code",
      "execution_count": null,
      "metadata": {
        "colab": {
          "base_uri": "https://localhost:8080/"
        },
        "id": "dZ8w2WZmuGIE",
        "outputId": "a05dd429-6956-4168-ccba-392074c19de1"
      },
      "outputs": [
        {
          "output_type": "execute_result",
          "data": {
            "text/plain": [
              "10500"
            ]
          },
          "metadata": {},
          "execution_count": 12
        }
      ],
      "source": [
        "#1.Define a class BankAccount that has a private attribute _balance.\n",
        "#Implement methods to deposit, withdraw, and check the balance while ensuring balance cannot be accessed directly.\n",
        "\n",
        "class bankaccount:\n",
        "  def __init__(self,balance):\n",
        "    self.__balance = balance\n",
        "\n",
        "\n",
        "\n",
        "  def deposite(self,amount):\n",
        "       self.__balance = amount+ self.__balance\n",
        "       return (self.__balance)\n",
        "\n",
        "  def withdraw(self,amount):\n",
        "        self.__balance -=  amount\n",
        "        return self.__balance\n",
        "\n",
        "  def set_balance(self,balance):\n",
        "     self.__balance = balance\n",
        "\n",
        "  def get_balance(self):\n",
        "     return self.__balance\n",
        "\n",
        "\n",
        "nitish_account = bankaccount(10000)\n",
        "nitish_account.deposite(500)\n",
        "\n",
        "\n",
        "\n",
        "\n",
        "\n",
        "\n",
        "\n",
        "\n",
        "\n"
      ]
    },
    {
      "cell_type": "code",
      "source": [
        "#2.  Create a class Student with private attributes _name and _marks.\n",
        "# Implement getter and setter methods to modify and access these attributes safely.\n",
        "\n",
        "\n",
        "class student:\n",
        "  def __init__(self,name,marks):\n",
        "    self.__n1= name\n",
        "    self.__m1 = marks\n",
        "\n",
        "  def set_name(self,name):\n",
        "    if len(name)>4:\n",
        "      self.__n1=name\n",
        "    else:\n",
        "      print(\"error\")\n",
        "\n",
        "  def get_name(self):\n",
        "    return  self.__n1\n",
        "\n",
        "\n",
        "\n",
        "  def set_marks(self,marks):\n",
        "      if  (marks)>40:\n",
        "         self.__m1=marks\n",
        "\n",
        "      else:\n",
        "        print(\"fail\")\n",
        "\n",
        "  def  get_marks(self):\n",
        "      return self.__m1\n",
        "\n",
        "\n",
        "\n",
        "ob1 = student(\"nit\",20)\n",
        "ob1.get_marks()\n",
        "ob1.get_name()\n",
        "\n",
        "ob1.set_name(\"nit\")\n",
        "ob1.get_name()\n",
        "\n",
        "\n",
        "\n",
        "\n",
        "\n",
        "\n",
        "\n",
        "\n",
        "\n"
      ],
      "metadata": {
        "colab": {
          "base_uri": "https://localhost:8080/",
          "height": 52
        },
        "id": "uHdpzVId2-w7",
        "outputId": "06e05405-7a3f-427c-f939-c4dbe2661227"
      },
      "execution_count": null,
      "outputs": [
        {
          "output_type": "stream",
          "name": "stdout",
          "text": [
            "error\n"
          ]
        },
        {
          "output_type": "execute_result",
          "data": {
            "text/plain": [
              "'nit'"
            ],
            "application/vnd.google.colaboratory.intrinsic+json": {
              "type": "string"
            }
          },
          "metadata": {},
          "execution_count": 21
        }
      ]
    },
    {
      "cell_type": "code",
      "source": [
        "#3.\tCreate a class Employee with a class attribute company_name.\n",
        "#Implement a class method set_company_name() to change the company name for all employee\n",
        "\n",
        "\n",
        "class employee:\n",
        "  def __init__(self,company_name):\n",
        "    self.cn = company_name\n",
        "\n",
        "  @classmethod\n",
        "  def set_company_name(cls,company_name):\n",
        "    if (len(company_name) >7):\n",
        "      cls.cn =company_name\n",
        "\n",
        "    else:\n",
        "      print(\"company not found\")\n",
        "\n",
        "\n",
        "employee.set_company_name(\"oracle\")\n",
        "\n",
        "\n",
        "\n",
        "\n",
        "\n"
      ],
      "metadata": {
        "colab": {
          "base_uri": "https://localhost:8080/"
        },
        "id": "Ak1qv6Yq2-uE",
        "outputId": "bd0b7801-4ea0-4241-e711-8f97b271c5cd"
      },
      "execution_count": null,
      "outputs": [
        {
          "output_type": "stream",
          "name": "stdout",
          "text": [
            "company not found\n"
          ]
        }
      ]
    },
    {
      "cell_type": "code",
      "source": [
        "#4.\tWrite a class Car with a private attribute _speed.\n",
        "# Implement a method set_speed() to update the speed only if the value is positive and a method get_speed() to retrieve the speed.\n",
        "\n",
        "\n",
        "class car:\n",
        "  def __init__(self, speed):\n",
        "    self.__s1 = speed\n",
        "\n",
        "  def set_speed(self,speed):\n",
        "\n",
        "      if speed>0:\n",
        "        self.__s1=speed\n",
        "        print(self.s1)\n",
        "      else:\n",
        "        print(\"error\")\n",
        "\n",
        "  def get_speed(self):\n",
        "      return self.__s1\n",
        "\n",
        "speed1 = car(200)\n",
        "speed1.get_speed()\n",
        "speed1.set_speed(-50)\n",
        "speed1.get_speed()"
      ],
      "metadata": {
        "id": "-Og1nan42-o8",
        "colab": {
          "base_uri": "https://localhost:8080/"
        },
        "outputId": "ceada71c-1f26-4136-af95-3b19e78fa8ec"
      },
      "execution_count": null,
      "outputs": [
        {
          "output_type": "stream",
          "name": "stdout",
          "text": [
            "error\n"
          ]
        },
        {
          "output_type": "execute_result",
          "data": {
            "text/plain": [
              "200"
            ]
          },
          "metadata": {},
          "execution_count": 9
        }
      ]
    },
    {
      "cell_type": "code",
      "source": [
        "#5.\tDefine a base class Shape with a method area().\n",
        "#Create two subclasses Circle and Rectangle, each implementing the area() method differently.\n",
        "\n",
        "class shape:\n",
        "  def __init__(self,length,breadth):\n",
        "    self.l1 = length\n",
        "    self.b1=breadth\n",
        "\n",
        "  def area(self):\n",
        "    return \"the area is total space ocupied by a bounded surface\"\n",
        "\n",
        "\n",
        "class circle(shape):\n",
        "\n",
        "  def __init__(self,radius):\n",
        "    self.r1=radius\n",
        "\n",
        "\n",
        "  def area(self):\n",
        "    ar1 = 3.14*(self.r1**2)\n",
        "    return ar1\n",
        "\n",
        "\n",
        "class rectangle(shape):\n",
        "  def area(self):\n",
        "\n",
        "\n",
        "    ar2= self.l1* self.b1\n",
        "    return ar2\n",
        "\n",
        "\n",
        "obj1=rectangle(200,10)\n",
        "obj1.area()\n",
        "\n",
        "obj2 = circle(10)\n",
        "obj2.area()\n",
        "\n",
        "obj3 = shape(100,50)\n",
        "obj3.area()\n",
        "\n",
        "\n",
        "\n"
      ],
      "metadata": {
        "id": "Zx1-hL_I2-md",
        "colab": {
          "base_uri": "https://localhost:8080/",
          "height": 35
        },
        "outputId": "1c572100-b336-4ee2-b297-5de3c4d5033a"
      },
      "execution_count": null,
      "outputs": [
        {
          "output_type": "execute_result",
          "data": {
            "text/plain": [
              "'the area is total space ocupied by a bounded surface'"
            ],
            "application/vnd.google.colaboratory.intrinsic+json": {
              "type": "string"
            }
          },
          "metadata": {},
          "execution_count": 20
        }
      ]
    },
    {
      "cell_type": "code",
      "source": [],
      "metadata": {
        "id": "43FTWULx2-fc"
      },
      "execution_count": null,
      "outputs": []
    },
    {
      "cell_type": "code",
      "source": [],
      "metadata": {
        "id": "ltmwfskF2-WW"
      },
      "execution_count": null,
      "outputs": []
    }
  ]
}