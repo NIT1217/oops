{
  "nbformat": 4,
  "nbformat_minor": 0,
  "metadata": {
    "colab": {
      "provenance": []
    },
    "kernelspec": {
      "name": "python3",
      "display_name": "Python 3"
    },
    "language_info": {
      "name": "python"
    }
  },
  "cells": [
    {
      "cell_type": "code",
      "execution_count": null,
      "metadata": {
        "id": "yQv0uHfjeS3q",
        "colab": {
          "base_uri": "https://localhost:8080/"
        },
        "outputId": "e5d3af45-0ba8-4b91-ecf4-0a01d24dc6f9"
      },
      "outputs": [
        {
          "output_type": "stream",
          "name": "stdout",
          "text": [
            "nitish 22\n",
            "ayush 20\n"
          ]
        }
      ],
      "source": [
        "#1. Create a Person class with attributes for name and age. Then, create two instances and print their details.\n",
        "\n",
        "\n",
        "class person:\n",
        "   def __init__(self,name,age):\n",
        "    self.n1=name\n",
        "    self.n2=age\n",
        "\n",
        "p1=person(\"nitish\",22)\n",
        "print(p1.n1,p1.n2)\n",
        "\n",
        "p2= person(\"ayush\",20)\n",
        "print(p2.n1,p2.n2)\n",
        "\n",
        "\n",
        "\n",
        "\n",
        "\n",
        "\n"
      ]
    },
    {
      "cell_type": "code",
      "source": [
        "\n",
        "#2.Modify the Person class to include a default value for the country attribute.\n",
        "\n",
        "class person:\n",
        "\n",
        "  def __init__(self,name,age,country=\"india\"):\n",
        "    self.n1=name\n",
        "    self.n2=age\n",
        "    self.c= country\n",
        "\n",
        "p1=person(\"nitish\",20)\n",
        "print(p1.n1,p1.n2)\n",
        "\n",
        "p2 = person(\"ayush\",20,\"nepal\")\n",
        "print(p2.n1,p2.n2,p2.c)\n",
        "\n",
        "\n"
      ],
      "metadata": {
        "colab": {
          "base_uri": "https://localhost:8080/"
        },
        "id": "JZD8noV-kLn-",
        "outputId": "88a9d5e6-9a57-4296-f822-9c5e9099b508"
      },
      "execution_count": null,
      "outputs": [
        {
          "output_type": "stream",
          "name": "stdout",
          "text": [
            "nitish 20\n",
            "ayush 20 nepal\n"
          ]
        }
      ]
    },
    {
      "cell_type": "code",
      "source": [
        "#3.Create a Dog class with a class attribute species, which is the same for all instances.\n",
        "\n",
        "class dog:\n",
        "  species=\"dog2.0\"\n",
        "  def __init__(self,name,breed):\n",
        "    self.s1= name\n",
        "    self.s2=breed\n",
        "\n",
        "\n",
        "dog1=dog(\"max\",\"german_shephard\")\n",
        "dog2=dog(\"tom\",\"husky\")\n",
        "\n",
        "\n",
        "print(dog2.s2,dog2.s1,dog2.species)\n"
      ],
      "metadata": {
        "colab": {
          "base_uri": "https://localhost:8080/"
        },
        "id": "FPZTAXE0kLtb",
        "outputId": "ffbb019b-dc4d-4aba-c401-85076970f2cb"
      },
      "execution_count": null,
      "outputs": [
        {
          "output_type": "stream",
          "name": "stdout",
          "text": [
            "husky tom dog2.0\n"
          ]
        }
      ]
    },
    {
      "cell_type": "code",
      "source": [
        "#4. Create a Book class with attributes title and author. Change the author after object creation.\n",
        "\n",
        "class book:\n",
        "\n",
        "  def __init__(self,title,author):\n",
        "    self.t1=title\n",
        "    self.a1=author\n",
        "\n",
        "book1=book(\"rashmirathi\",\"ramshari singh\")\n",
        "book2=book(\"gitanjali\",\"ravindranath tangore\")\n",
        "book1.t1=\"bhagya\"\n",
        "print(f\"the book is {book1.t1} and the author is {book1.a1}\")\n",
        "\n",
        "\n",
        "print(book2.t1,book2.a1)\n",
        "\n",
        "\n",
        "\n",
        "\n",
        "\n"
      ],
      "metadata": {
        "colab": {
          "base_uri": "https://localhost:8080/"
        },
        "id": "dzlnpRN0kLx7",
        "outputId": "b32c4447-8b7f-435a-9e4d-555231aec6c5"
      },
      "execution_count": null,
      "outputs": [
        {
          "output_type": "stream",
          "name": "stdout",
          "text": [
            "the book is bhagya and the author is ramshari singh\n",
            "gitanjali ravindranath tangore\n"
          ]
        }
      ]
    },
    {
      "cell_type": "code",
      "source": [
        "#5. Modify the Person class to track how many instances have been created(vvi)\n",
        "\n",
        "class person:\n",
        "   count=0\n",
        "   name = \"nitish\"\n",
        "   age=20\n",
        "\n",
        "   def __init__(self,section,aim):\n",
        "    self.s1=section\n",
        "    self.a1=aim\n",
        "    person.count+=1\n",
        "\n",
        "\n",
        "\n",
        "b1=person(\"ab1\",\"generativeAi engineer\")\n",
        "print(b1.name,b1.age,b1.count)\n",
        "b2=person(\"ab2\",\"ai engineer\")\n",
        "print(b2.age,b2.count,b2.a1)\n",
        "b3=person(\"ab1\",\"gen ai\")\n",
        "print(b3.age,b3.name)\n",
        "\n"
      ],
      "metadata": {
        "colab": {
          "base_uri": "https://localhost:8080/"
        },
        "id": "rgoHA-oSt1CW",
        "outputId": "126f9266-eb41-456a-e9ce-15a9cb7a3426"
      },
      "execution_count": null,
      "outputs": [
        {
          "output_type": "stream",
          "name": "stdout",
          "text": [
            "nitish 20 1\n",
            "20 2 ai engineer\n",
            "20 nitish\n"
          ]
        }
      ]
    },
    {
      "cell_type": "code",
      "source": [
        "#6. Create a Rectangle class with attributes for width and height, and a method to calculate the\n",
        "\n",
        "class Rectangle:\n",
        "    def __init__(self, width, height):\n",
        "        self.width = width\n",
        "        self.height = height\n",
        "\n",
        "    def area(self):\n",
        "        return self.width * self.height\n",
        "\n",
        "rect = Rectangle(5, 10)\n",
        "print(\"Area:\", rect.area())\n"
      ],
      "metadata": {
        "colab": {
          "base_uri": "https://localhost:8080/"
        },
        "id": "kAoqBgGHt1Fr",
        "outputId": "5de194f1-3282-4ade-ce3b-36b169f13093"
      },
      "execution_count": null,
      "outputs": [
        {
          "output_type": "stream",
          "name": "stdout",
          "text": [
            "Area: 50\n"
          ]
        }
      ]
    },
    {
      "cell_type": "code",
      "source": [
        "#6. Create a Rectangle class with attributes for width and height, and a method to calculate the area.\n",
        "\n",
        "class rectangle:\n",
        "  def __init__(self,width,height):\n",
        "    self.b=width\n",
        "    self.h=height\n",
        "\n",
        "  def area(self):\n",
        "    return self.b*self.h\n",
        "\n",
        "\n",
        "o1 = rectangle(5,10)\n",
        "print(o1.area())"
      ],
      "metadata": {
        "id": "hP-pMNs0t1Hx",
        "colab": {
          "base_uri": "https://localhost:8080/"
        },
        "outputId": "99ce12e9-8e31-4c14-a715-1426eddc8414"
      },
      "execution_count": null,
      "outputs": [
        {
          "output_type": "stream",
          "name": "stdout",
          "text": [
            "50\n"
          ]
        }
      ]
    },
    {
      "cell_type": "code",
      "source": [
        "#7.Create a Student class where grade is a private attribute.\n",
        "# Provide getter and setter methods to access and modify it safely.\n",
        "\n",
        "\n",
        "\n",
        "\n",
        "\n",
        "\n",
        "\n"
      ],
      "metadata": {
        "id": "oP49VXS9t1KG"
      },
      "execution_count": null,
      "outputs": []
    },
    {
      "cell_type": "code",
      "source": [
        "#8. Design a BankAccount class with attributes for account_holder and balance. Include methods to deposit and withdraw money.\n",
        "\n",
        "'''\n",
        "class bank_account:\n",
        "  current_balance = 100000\n",
        "  def __init__(self,account_holder=\"nitish\" , balance,added_money):\n",
        "    self.acc= account_holder\n",
        "    self.bal = balance\n",
        "    self.added_money = 0\n",
        "\n",
        "  def deposite (self):\n",
        "    self.added_money = int(input(\"enter the amount to be input\"))\n",
        "\n",
        "    return \"the  deposits are\",(bank_account.current_account+ self.added_money)\n",
        "\n",
        "  def withdraw(self):\n",
        "    return  bank_account.deposite()-self.bal\n",
        "\n",
        "\n",
        "\n",
        "  o1 = bank_account(2000)\n",
        "  print(o1.withdraw)\n",
        "  print(o1.deposite)\n",
        "\n",
        "'''\n",
        "\n",
        "\n",
        "class BankAccount:\n",
        "    def __init__(self, account_holder, balance=0):\n",
        "        self.account_holder = account_holder\n",
        "        self.balance = balance\n",
        "\n",
        "    def deposit(self, amount):\n",
        "        if amount > 0:\n",
        "            self.balance += amount\n",
        "        else:\n",
        "            print(\"Deposit amount must be positive.\")\n",
        "\n",
        "    def withdraw(self, amount):\n",
        "        if amount > 0 and amount <= self.balance:\n",
        "            self.balance -= amount\n",
        "        else:\n",
        "            print(\"Insufficient funds or invalid amount.\")\n",
        "\n",
        "account = BankAccount(\"John Doe\", 500)\n",
        "account.deposit(200)\n",
        "print(account.balance)\n",
        "\n",
        "account.withdraw(300)\n",
        "print(account.balance)\n",
        "\n"
      ],
      "metadata": {
        "colab": {
          "base_uri": "https://localhost:8080/"
        },
        "id": "mc0huDFCPKM6",
        "outputId": "1cb74c23-e2e9-4104-f6d9-a08b76a780f7"
      },
      "execution_count": null,
      "outputs": [
        {
          "output_type": "stream",
          "name": "stdout",
          "text": [
            "700\n",
            "400\n"
          ]
        }
      ]
    },
    {
      "cell_type": "code",
      "source": [
        "#9.Create a Product class with a class method that sets a discount for all products.\n",
        "\n",
        "class product :\n",
        "  discount_cal = 0\n",
        "\n",
        "  def __init__(self,name,price):\n",
        "     self.name = name\n",
        "     self.price = price\n",
        "\n",
        "  def discount (self):\n",
        "    product.discount_cal  = int(input(\"enter the discount you got\"))\n",
        "    profit = self.price - product.discount_cal\n",
        "\n",
        "    return profit\n",
        "\n",
        "p1 = product(\"chair\",2000)\n",
        "print(f\"the profit on {p1.name}  is {p1.discount()}\")\n",
        "\n",
        "\n",
        "\n",
        "\n",
        "\n"
      ],
      "metadata": {
        "colab": {
          "base_uri": "https://localhost:8080/"
        },
        "id": "Hod9qdUkPKS1",
        "outputId": "c759aa0f-b5d5-439c-aeed-10ffc6dd2d4e"
      },
      "execution_count": null,
      "outputs": [
        {
          "output_type": "stream",
          "name": "stdout",
          "text": [
            "enter the discount you got200\n",
            "the profit on chair  is 1800\n"
          ]
        }
      ]
    },
    {
      "cell_type": "code",
      "source": [
        "#10. Create a Laptop class with attributes brand, price, and a method to apply a discount.\n",
        "\n",
        "\n",
        "\n",
        "\n",
        "\n"
      ],
      "metadata": {
        "id": "mFyxp2jLPKYF"
      },
      "execution_count": null,
      "outputs": []
    },
    {
      "cell_type": "markdown",
      "source": [
        "                         #####  INHERITENCE AND ABSTRACTION ########"
      ],
      "metadata": {
        "id": "15vrotsXc0TN"
      }
    },
    {
      "cell_type": "code",
      "source": [
        "#11.\n",
        "'''\n",
        "o\tTask: Create a base class Animal with a method make_sound() that prints \"Animal sound\".\n",
        "o\tThen, create two subclasses: Dog and Cat that override the make_sound() method to print \"Bark\" for Dog and \"Meow\" for Cat.\n",
        "o\tTest Case: Instantiate both Dog and Cat objects and call their make_sound() method.\n",
        "'''\n",
        "\n",
        "class animal:\n",
        "  def make_sound(self):\n",
        "    return (\"animal sound\")\n",
        "\n",
        "class dog(animal):\n",
        "  def make_sound(self):\n",
        "    return (\"bark\")\n",
        "\n",
        "class cat(animal):\n",
        "  def make_sound(self):\n",
        "    return (\"meow\")\n",
        "\n",
        "\n",
        "\n",
        "\n",
        "jussy = cat()\n",
        "print(jussy.make_sound())\n",
        "\n",
        "\n",
        "garman = dog()\n",
        "print(garman.make_sound())\n",
        "\n",
        "\n"
      ],
      "metadata": {
        "colab": {
          "base_uri": "https://localhost:8080/"
        },
        "id": "c-fSzkWJcv8-",
        "outputId": "17837745-a896-4d3c-a20e-1f28c21342e7"
      },
      "execution_count": null,
      "outputs": [
        {
          "output_type": "stream",
          "name": "stdout",
          "text": [
            "meow\n",
            "bark\n"
          ]
        }
      ]
    },
    {
      "cell_type": "code",
      "source": [
        "#12.\n",
        "'''\n",
        "o\tTask: Create an abstract class Payment with an abstract method process_payment().\n",
        "Then create two subclasses: CreditCardPayment and PayPalPayment,\n",
        "both of which implement the process_payment() method to simulate processing payments through these methods.\n",
        " '''\n",
        "\n",
        "\n",
        "import abc as nitish\n",
        "\n",
        "class Payment():\n",
        "    @nitish.abstractmethod\n",
        "    def process_payment(self, amount):\n",
        "        pass\n",
        "\n",
        "\n",
        "class CreditCardPayment(Payment):\n",
        "    def process_payment(self, amount):\n",
        "        print(f\"Processing credit card payment of ${amount}\")\n",
        "\n",
        "\n",
        "class PayPalPayment(Payment):\n",
        "    def process_payment(self, amount):\n",
        "        print(f\"Processing PayPal payment of ${amount}\")\n",
        "\n",
        "credit_payment = CreditCardPayment()\n",
        "credit_payment.process_payment(100)\n",
        "\n",
        "paypal_payment = PayPalPayment()\n",
        "paypal_payment.process_payment(200)\n",
        "\n",
        "\n",
        "\n",
        "\n",
        "\n"
      ],
      "metadata": {
        "colab": {
          "base_uri": "https://localhost:8080/"
        },
        "id": "W5Rgb3sDci9V",
        "outputId": "c15c0f9e-0a5f-424c-d50d-70923d2f17fc"
      },
      "execution_count": null,
      "outputs": [
        {
          "output_type": "stream",
          "name": "stdout",
          "text": [
            "Processing credit card payment of $100\n",
            "Processing PayPal payment of $200\n"
          ]
        }
      ]
    },
    {
      "cell_type": "code",
      "source": [
        "#13. o\tTask: Create a base class Employee with attributes name, id, and salary.\n",
        "# Add a method display_details() to display employee details.\n",
        "#o\tCreate a subclass Manager that inherits from Employee and has an additional attribute department.\n",
        "#o\tTest Case: Instantiate Manager and display the details, including the department.\n",
        "\n",
        "import pandas as pd\n",
        "class employee :\n",
        "  def __init__(self,name,id,salary):\n",
        "    self.n1=name\n",
        "    self.id=id\n",
        "    self.s1=salary\n",
        "\n",
        "  def display_details(self):\n",
        "\n",
        "     detail= {'Name of employee': [self.n1], 'ID of employee': [self.id], 'Salary of employee': [self.s1]}\n",
        "     return detail\n",
        "\n",
        "\n",
        "class manager (employee):\n",
        "\n",
        "  def __init__(self,department,name,id,salary):\n",
        "    super().__init__( name,id,salary)\n",
        "    self.d1 = department\n",
        "\n",
        "\n",
        "\n",
        "\n",
        "mang1=manager(\"ai\",\"nitish\",\"E001\",200000)\n",
        "print(f\"{mang1.d1}\\n\")\n",
        "mang1.display_details()\n",
        "\n",
        "\n",
        "\n",
        "\n"
      ],
      "metadata": {
        "id": "lULXlaWUci6e",
        "colab": {
          "base_uri": "https://localhost:8080/"
        },
        "outputId": "10e29af0-2369-4dd0-989c-536e7ce4ec14"
      },
      "execution_count": null,
      "outputs": [
        {
          "output_type": "stream",
          "name": "stdout",
          "text": [
            "ai\n",
            "\n"
          ]
        },
        {
          "output_type": "execute_result",
          "data": {
            "text/plain": [
              "{'Name of employee': ['nitish'],\n",
              " 'ID of employee': ['E001'],\n",
              " 'Salary of employee': [200000]}"
            ]
          },
          "metadata": {},
          "execution_count": 9
        }
      ]
    },
    {
      "cell_type": "code",
      "source": [
        "#14.o\tTask: Create two classes: Person with attributes name and age , and Employee with attributes employee_id and department.\n",
        "#o\tCreate a subclass Manager that inherits from both Person and Employee. Add a method manage() that prints the manager’s details.\n",
        "#o\tTest Case: Instantiate Manager and call the manage() method.\n",
        "import pandas as pd\n",
        "class person:\n",
        "  def __init__(self,name,age):\n",
        "    self.n1=name\n",
        "    self.a1=age\n",
        "\n",
        "class employee:\n",
        "  def __init__(self,employee_id):\n",
        "    self.e1 = employee_id\n",
        "\n",
        "\n",
        "class manager(person,employee):\n",
        "  def __init__(self,name,age,emoloyee_id):\n",
        "    super().__init__(name,age)\n",
        "    employee.__init__(self,employee)\n",
        "\n",
        "  def manage(self):\n",
        "     result =pd.DataFrame({'name':[self.n1],\"age\":[self.a1],\"employee\":[self.e1]})\n",
        "     return result\n",
        "\n",
        "\n",
        "\n",
        "o1=manager(\"nitish\",20,\"gen-ai engineer\")\n",
        "print(o1.manage())\n",
        "\n",
        "\n"
      ],
      "metadata": {
        "id": "xweXVaZ8cixf",
        "colab": {
          "base_uri": "https://localhost:8080/"
        },
        "outputId": "fa604d62-f72b-415a-9bf6-4cc03d5db9f9"
      },
      "execution_count": 4,
      "outputs": [
        {
          "output_type": "stream",
          "name": "stdout",
          "text": [
            "     name  age                     employee\n",
            "0  nitish   20  <class '__main__.employee'>\n"
          ]
        }
      ]
    },
    {
      "cell_type": "code",
      "source": [
        "#15. •\tTask: Create an abstract class Shape with an abstract method draw().\n",
        "# Then create two subclasses: Circle and Square, both of which implement the draw()\n",
        "#method to print a message like \"Drawing a circle\" and \"Drawing a square\", respectively.\n",
        "#Test Case: Instantiate both classes and call their draw() method.\n",
        "\n",
        "\n",
        "from abc import ABC,abstractmethod\n",
        "\n",
        "class shape(ABC):\n",
        "\n",
        "  def __init__(self,area,parameter):\n",
        "    self.a1 = area\n",
        "    self.p1=parameter\n",
        "  @abstractmethod\n",
        "  def draw(self):\n",
        "    pass\n",
        "\n",
        "\n",
        "class circle(shape):\n",
        "  def __init__(self,area,parameter,radius):\n",
        "    self.a1 = area\n",
        "    self.p1=parameter\n",
        "    self.r1 = radius\n",
        "\n",
        "  def draw(self):\n",
        "    print(f\"drawing a circle of area = {self.a1},and of radius = {self.r1}\")\n",
        "\n",
        "class square(shape):\n",
        "  def __init__(self,area,parameter,side):\n",
        "    self.a1 = area\n",
        "    self.p1=parameter\n",
        "    self.s1 = side\n",
        "  def draw(self):\n",
        "    print(f\"draw the square of area ={self.a1},and of side = {self.s1} \")\n",
        "\n",
        "o1=circle(225,123,4)\n",
        "o1.draw()\n",
        "\n",
        "\n"
      ],
      "metadata": {
        "id": "PwOJLphncim3",
        "colab": {
          "base_uri": "https://localhost:8080/"
        },
        "outputId": "6241c953-a152-40aa-f606-82ded971aa10"
      },
      "execution_count": 6,
      "outputs": [
        {
          "output_type": "stream",
          "name": "stdout",
          "text": [
            "drawing a circle of area = 225,and of radius = 4\n"
          ]
        }
      ]
    }
  ]
}